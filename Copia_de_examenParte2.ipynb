{
  "nbformat": 4,
  "nbformat_minor": 0,
  "metadata": {
    "colab": {
      "provenance": [],
      "gpuType": "T4",
      "mount_file_id": "1LjYT0SJDNdQZpvsaVM4WUesAtvJh8stO",
      "authorship_tag": "ABX9TyMTCF5ku1GNjbBt0Rwmzh/V",
      "include_colab_link": true
    },
    "kernelspec": {
      "name": "python3",
      "display_name": "Python 3"
    },
    "language_info": {
      "name": "python"
    },
    "accelerator": "GPU",
    "gpuClass": "standard"
  },
  "cells": [
    {
      "cell_type": "markdown",
      "metadata": {
        "id": "view-in-github",
        "colab_type": "text"
      },
      "source": [
        "<a href=\"https://colab.research.google.com/github/KarimeAylen/Hola/blob/main/Copia_de_examenParte2.ipynb\" target=\"_parent\"><img src=\"https://colab.research.google.com/assets/colab-badge.svg\" alt=\"Open In Colab\"/></a>"
      ]
    },
    {
      "cell_type": "code",
      "execution_count": 1,
      "metadata": {
        "id": "pOCpYX2QbjKB"
      },
      "outputs": [],
      "source": [
        "from keras.models import Sequential\n",
        "from keras.layers import Dense\n",
        "from tensorflow.keras.utils import to_categorical\n",
        "from sklearn.model_selection import train_test_split\n",
        "from keras.layers.convolutional import Conv2D\n",
        "from keras.layers.convolutional import MaxPooling2D\n",
        "from keras.layers import Flatten\n",
        "import matplotlib.pyplot as plt\n",
        "import numpy as np"
      ]
    },
    {
      "cell_type": "code",
      "source": [
        "# Setup data inputs\n",
        "from tensorflow.keras.preprocessing.image import ImageDataGenerator\n",
        "IMAGE_SIZE = (224, 224)\n",
        "BATCH_SIZE = 32  #Hiperparametros las letras mayusculas: lo puedes definir \n",
        "\n",
        "train_dir = \"/content/drive/MyDrive/IC/train\"\n",
        "test_dir = \"/content/drive/MyDrive/IC/test\"\n",
        "\n",
        "train_datagen = ImageDataGenerator(rescale=1/255.)\n",
        "test_datagen = ImageDataGenerator(rescale=1/255.)\n",
        "\n",
        "print(\"Training images:\")\n",
        "train_data = train_datagen.flow_from_directory(train_dir,\n",
        "                                               target_size=IMAGE_SIZE,\n",
        "                                               batch_size=BATCH_SIZE,\n",
        "                                               class_mode=\"categorical\")\n",
        "\n",
        "#print(\"Testing images:\")\n",
        "test_data = train_datagen.flow_from_directory(test_dir,\n",
        "                                              target_size=IMAGE_SIZE,\n",
        "                                              batch_size=BATCH_SIZE,\n",
        "                                              class_mode=\"categorical\")"
      ],
      "metadata": {
        "colab": {
          "base_uri": "https://localhost:8080/"
        },
        "id": "Uvh-M6oTbnWd",
        "outputId": "0a97e510-882f-40ee-fd4f-3db879a0663c"
      },
      "execution_count": 2,
      "outputs": [
        {
          "output_type": "stream",
          "name": "stdout",
          "text": [
            "Training images:\n",
            "Found 100 images belonging to 10 classes.\n",
            "Found 100 images belonging to 10 classes.\n"
          ]
        }
      ]
    },
    {
      "cell_type": "code",
      "source": [
        "train_data"
      ],
      "metadata": {
        "colab": {
          "base_uri": "https://localhost:8080/"
        },
        "id": "_0afIKxEhmuC",
        "outputId": "fe0716a0-2bc8-4041-9405-8b46172b1820"
      },
      "execution_count": 3,
      "outputs": [
        {
          "output_type": "execute_result",
          "data": {
            "text/plain": [
              "<keras.preprocessing.image.DirectoryIterator at 0x7f40d79bb340>"
            ]
          },
          "metadata": {},
          "execution_count": 3
        }
      ]
    },
    {
      "cell_type": "code",
      "source": [
        "model=Sequential()\n",
        "model.add(Conv2D(20,(10,10),strides=(2,2),activation='relu',input_shape=(224,224,3)))\n",
        "model.add(MaxPooling2D(pool_size=(4,4),strides=(3,3)))\n",
        "model.add(Conv2D(40,(16,16),strides=(2,2),activation='tanh'))\n",
        "model.add(MaxPooling2D(pool_size=(3,3),strides=(3,3)))\n",
        "#model.add(Conv2D(20,(10,10),strides=(2,2),activation='relu'))\n",
        "#model.add(MaxPooling2D(pool_size=(1,1),strides=(3,3)))\n",
        "model.add(Flatten())\n",
        "model.add(Dense(100,activation='relu'))\n",
        "#model.add(Dense(90,activation='sigmoid'))\n",
        "model.add(Dense(10,activation='softmax'))"
      ],
      "metadata": {
        "id": "shJONYHBhqTn"
      },
      "execution_count": 4,
      "outputs": []
    },
    {
      "cell_type": "code",
      "source": [
        "model.compile(loss='categorical_crossentropy',optimizer='rmsprop',metrics='accuracy')"
      ],
      "metadata": {
        "id": "Nbc5ZflShtzS"
      },
      "execution_count": 5,
      "outputs": []
    },
    {
      "cell_type": "code",
      "source": [
        "history=model.fit(train_data, validation_data=test_data, epochs=100, batch_size=100)"
      ],
      "metadata": {
        "colab": {
          "base_uri": "https://localhost:8080/"
        },
        "id": "oSWlZ5Nahuc5",
        "outputId": "6d7a6b32-f808-4ecd-d90b-d07d0931a0d9"
      },
      "execution_count": 6,
      "outputs": [
        {
          "output_type": "stream",
          "name": "stdout",
          "text": [
            "Epoch 1/100\n",
            "4/4 [==============================] - 8s 482ms/step - loss: 2.7294 - accuracy: 0.1300 - val_loss: 2.5978 - val_accuracy: 0.1000\n",
            "Epoch 2/100\n",
            "4/4 [==============================] - 1s 459ms/step - loss: 2.3054 - accuracy: 0.2700 - val_loss: 2.0475 - val_accuracy: 0.2100\n",
            "Epoch 3/100\n",
            "4/4 [==============================] - 1s 388ms/step - loss: 2.1960 - accuracy: 0.1900 - val_loss: 2.1729 - val_accuracy: 0.2300\n",
            "Epoch 4/100\n",
            "4/4 [==============================] - 1s 366ms/step - loss: 2.0377 - accuracy: 0.2600 - val_loss: 1.9482 - val_accuracy: 0.3400\n",
            "Epoch 5/100\n",
            "4/4 [==============================] - 1s 430ms/step - loss: 2.1540 - accuracy: 0.2400 - val_loss: 1.8733 - val_accuracy: 0.3900\n",
            "Epoch 6/100\n",
            "4/4 [==============================] - 2s 457ms/step - loss: 1.7661 - accuracy: 0.3800 - val_loss: 1.7678 - val_accuracy: 0.3000\n",
            "Epoch 7/100\n",
            "4/4 [==============================] - 2s 332ms/step - loss: 1.6845 - accuracy: 0.4600 - val_loss: 1.8324 - val_accuracy: 0.3200\n",
            "Epoch 8/100\n",
            "4/4 [==============================] - 1s 284ms/step - loss: 1.9823 - accuracy: 0.4000 - val_loss: 2.0239 - val_accuracy: 0.2900\n",
            "Epoch 9/100\n",
            "4/4 [==============================] - 1s 397ms/step - loss: 1.6290 - accuracy: 0.4700 - val_loss: 1.6237 - val_accuracy: 0.4100\n",
            "Epoch 10/100\n",
            "4/4 [==============================] - 1s 378ms/step - loss: 1.3134 - accuracy: 0.6000 - val_loss: 1.8918 - val_accuracy: 0.2600\n",
            "Epoch 11/100\n",
            "4/4 [==============================] - 1s 305ms/step - loss: 1.5921 - accuracy: 0.4600 - val_loss: 1.6734 - val_accuracy: 0.3500\n",
            "Epoch 12/100\n",
            "4/4 [==============================] - 1s 265ms/step - loss: 1.2489 - accuracy: 0.5900 - val_loss: 1.5570 - val_accuracy: 0.3900\n",
            "Epoch 13/100\n",
            "4/4 [==============================] - 1s 388ms/step - loss: 1.1884 - accuracy: 0.6500 - val_loss: 1.9832 - val_accuracy: 0.2600\n",
            "Epoch 14/100\n",
            "4/4 [==============================] - 1s 417ms/step - loss: 1.0838 - accuracy: 0.6800 - val_loss: 1.4605 - val_accuracy: 0.4400\n",
            "Epoch 15/100\n",
            "4/4 [==============================] - 2s 495ms/step - loss: 1.6292 - accuracy: 0.5700 - val_loss: 2.4732 - val_accuracy: 0.2200\n",
            "Epoch 16/100\n",
            "4/4 [==============================] - 1s 436ms/step - loss: 1.2408 - accuracy: 0.6000 - val_loss: 1.4910 - val_accuracy: 0.4300\n",
            "Epoch 17/100\n",
            "4/4 [==============================] - 1s 471ms/step - loss: 0.6685 - accuracy: 0.9100 - val_loss: 1.4216 - val_accuracy: 0.4600\n",
            "Epoch 18/100\n",
            "4/4 [==============================] - 1s 362ms/step - loss: 0.5311 - accuracy: 0.9100 - val_loss: 1.4447 - val_accuracy: 0.4600\n",
            "Epoch 19/100\n",
            "4/4 [==============================] - 1s 354ms/step - loss: 0.7112 - accuracy: 0.8100 - val_loss: 1.5705 - val_accuracy: 0.4500\n",
            "Epoch 20/100\n",
            "4/4 [==============================] - 1s 283ms/step - loss: 0.5495 - accuracy: 0.9100 - val_loss: 1.8159 - val_accuracy: 0.3800\n",
            "Epoch 21/100\n",
            "4/4 [==============================] - 1s 270ms/step - loss: 0.6369 - accuracy: 0.8400 - val_loss: 1.4301 - val_accuracy: 0.4500\n",
            "Epoch 22/100\n",
            "4/4 [==============================] - 2s 471ms/step - loss: 0.3345 - accuracy: 0.9700 - val_loss: 1.3763 - val_accuracy: 0.4900\n",
            "Epoch 23/100\n",
            "4/4 [==============================] - 2s 381ms/step - loss: 0.2940 - accuracy: 0.9800 - val_loss: 1.5943 - val_accuracy: 0.4300\n",
            "Epoch 24/100\n",
            "4/4 [==============================] - 1s 449ms/step - loss: 0.2754 - accuracy: 0.9700 - val_loss: 1.3518 - val_accuracy: 0.5000\n",
            "Epoch 25/100\n",
            "4/4 [==============================] - 1s 456ms/step - loss: 0.1588 - accuracy: 0.9900 - val_loss: 1.2907 - val_accuracy: 0.5300\n",
            "Epoch 26/100\n",
            "4/4 [==============================] - 1s 387ms/step - loss: 0.0896 - accuracy: 1.0000 - val_loss: 1.6831 - val_accuracy: 0.4300\n",
            "Epoch 27/100\n",
            "4/4 [==============================] - 1s 289ms/step - loss: 0.7696 - accuracy: 0.7900 - val_loss: 2.9031 - val_accuracy: 0.2600\n",
            "Epoch 28/100\n",
            "4/4 [==============================] - 1s 387ms/step - loss: 1.0920 - accuracy: 0.6800 - val_loss: 1.8264 - val_accuracy: 0.4000\n",
            "Epoch 29/100\n",
            "4/4 [==============================] - 2s 471ms/step - loss: 0.2350 - accuracy: 0.9600 - val_loss: 1.3336 - val_accuracy: 0.5300\n",
            "Epoch 30/100\n",
            "4/4 [==============================] - 2s 655ms/step - loss: 0.0611 - accuracy: 1.0000 - val_loss: 1.3507 - val_accuracy: 0.5300\n",
            "Epoch 31/100\n",
            "4/4 [==============================] - 1s 385ms/step - loss: 0.0454 - accuracy: 1.0000 - val_loss: 1.3658 - val_accuracy: 0.5000\n",
            "Epoch 32/100\n",
            "4/4 [==============================] - 1s 378ms/step - loss: 0.0403 - accuracy: 1.0000 - val_loss: 1.3700 - val_accuracy: 0.5500\n",
            "Epoch 33/100\n",
            "4/4 [==============================] - 1s 371ms/step - loss: 0.0299 - accuracy: 1.0000 - val_loss: 1.3599 - val_accuracy: 0.5700\n",
            "Epoch 34/100\n",
            "4/4 [==============================] - 1s 365ms/step - loss: 0.0288 - accuracy: 1.0000 - val_loss: 1.3622 - val_accuracy: 0.5000\n",
            "Epoch 35/100\n",
            "4/4 [==============================] - 1s 448ms/step - loss: 0.0228 - accuracy: 1.0000 - val_loss: 1.4051 - val_accuracy: 0.5400\n",
            "Epoch 36/100\n",
            "4/4 [==============================] - 1s 402ms/step - loss: 0.0171 - accuracy: 1.0000 - val_loss: 1.3944 - val_accuracy: 0.5500\n",
            "Epoch 37/100\n",
            "4/4 [==============================] - 1s 380ms/step - loss: 0.0142 - accuracy: 1.0000 - val_loss: 1.3963 - val_accuracy: 0.5500\n",
            "Epoch 38/100\n",
            "4/4 [==============================] - 2s 421ms/step - loss: 0.0113 - accuracy: 1.0000 - val_loss: 1.4095 - val_accuracy: 0.5400\n",
            "Epoch 39/100\n",
            "4/4 [==============================] - 2s 526ms/step - loss: 0.0149 - accuracy: 1.0000 - val_loss: 1.3948 - val_accuracy: 0.5100\n",
            "Epoch 40/100\n",
            "4/4 [==============================] - 2s 479ms/step - loss: 0.2805 - accuracy: 0.8800 - val_loss: 2.7987 - val_accuracy: 0.1800\n",
            "Epoch 41/100\n",
            "4/4 [==============================] - 1s 403ms/step - loss: 0.7633 - accuracy: 0.7500 - val_loss: 1.7441 - val_accuracy: 0.4400\n",
            "Epoch 42/100\n",
            "4/4 [==============================] - 1s 407ms/step - loss: 0.0459 - accuracy: 1.0000 - val_loss: 1.5023 - val_accuracy: 0.5100\n",
            "Epoch 43/100\n",
            "4/4 [==============================] - 1s 372ms/step - loss: 0.0138 - accuracy: 1.0000 - val_loss: 1.4798 - val_accuracy: 0.5000\n",
            "Epoch 44/100\n",
            "4/4 [==============================] - 2s 465ms/step - loss: 0.0098 - accuracy: 1.0000 - val_loss: 1.4956 - val_accuracy: 0.5200\n",
            "Epoch 45/100\n",
            "4/4 [==============================] - 2s 348ms/step - loss: 0.0081 - accuracy: 1.0000 - val_loss: 1.4828 - val_accuracy: 0.5300\n",
            "Epoch 46/100\n",
            "4/4 [==============================] - 2s 542ms/step - loss: 0.0067 - accuracy: 1.0000 - val_loss: 1.4882 - val_accuracy: 0.5100\n",
            "Epoch 47/100\n",
            "4/4 [==============================] - 2s 452ms/step - loss: 0.0057 - accuracy: 1.0000 - val_loss: 1.5180 - val_accuracy: 0.5000\n",
            "Epoch 48/100\n",
            "4/4 [==============================] - 1s 472ms/step - loss: 0.0052 - accuracy: 1.0000 - val_loss: 1.4961 - val_accuracy: 0.5100\n",
            "Epoch 49/100\n",
            "4/4 [==============================] - 1s 391ms/step - loss: 0.0042 - accuracy: 1.0000 - val_loss: 1.5111 - val_accuracy: 0.5200\n",
            "Epoch 50/100\n",
            "4/4 [==============================] - 1s 375ms/step - loss: 0.0037 - accuracy: 1.0000 - val_loss: 1.5093 - val_accuracy: 0.5200\n",
            "Epoch 51/100\n",
            "4/4 [==============================] - 1s 486ms/step - loss: 0.0032 - accuracy: 1.0000 - val_loss: 1.5149 - val_accuracy: 0.5400\n",
            "Epoch 52/100\n",
            "4/4 [==============================] - 1s 453ms/step - loss: 0.0028 - accuracy: 1.0000 - val_loss: 1.5275 - val_accuracy: 0.5300\n",
            "Epoch 53/100\n",
            "4/4 [==============================] - 1s 436ms/step - loss: 0.0027 - accuracy: 1.0000 - val_loss: 1.5119 - val_accuracy: 0.5300\n",
            "Epoch 54/100\n",
            "4/4 [==============================] - 2s 294ms/step - loss: 0.0022 - accuracy: 1.0000 - val_loss: 1.5459 - val_accuracy: 0.5200\n",
            "Epoch 55/100\n",
            "4/4 [==============================] - 2s 618ms/step - loss: 0.0019 - accuracy: 1.0000 - val_loss: 1.5505 - val_accuracy: 0.5500\n",
            "Epoch 56/100\n",
            "4/4 [==============================] - 1s 383ms/step - loss: 0.0017 - accuracy: 1.0000 - val_loss: 1.5680 - val_accuracy: 0.5200\n",
            "Epoch 57/100\n",
            "4/4 [==============================] - 1s 411ms/step - loss: 0.0017 - accuracy: 1.0000 - val_loss: 1.5522 - val_accuracy: 0.5200\n",
            "Epoch 58/100\n",
            "4/4 [==============================] - 1s 360ms/step - loss: 0.0014 - accuracy: 1.0000 - val_loss: 1.5497 - val_accuracy: 0.5300\n",
            "Epoch 59/100\n",
            "4/4 [==============================] - 1s 280ms/step - loss: 0.0012 - accuracy: 1.0000 - val_loss: 1.5442 - val_accuracy: 0.5400\n",
            "Epoch 60/100\n",
            "4/4 [==============================] - 1s 411ms/step - loss: 9.8948e-04 - accuracy: 1.0000 - val_loss: 1.5731 - val_accuracy: 0.5300\n",
            "Epoch 61/100\n",
            "4/4 [==============================] - 1s 388ms/step - loss: 9.8858e-04 - accuracy: 1.0000 - val_loss: 1.5843 - val_accuracy: 0.5600\n",
            "Epoch 62/100\n",
            "4/4 [==============================] - 1s 244ms/step - loss: 8.0568e-04 - accuracy: 1.0000 - val_loss: 1.5960 - val_accuracy: 0.5600\n",
            "Epoch 63/100\n",
            "4/4 [==============================] - 2s 595ms/step - loss: 0.0010 - accuracy: 1.0000 - val_loss: 1.7422 - val_accuracy: 0.5300\n",
            "Epoch 64/100\n",
            "4/4 [==============================] - 2s 433ms/step - loss: 1.0096 - accuracy: 0.7800 - val_loss: 2.4758 - val_accuracy: 0.2900\n",
            "Epoch 65/100\n",
            "4/4 [==============================] - 1s 417ms/step - loss: 0.3208 - accuracy: 0.9300 - val_loss: 1.5960 - val_accuracy: 0.5400\n",
            "Epoch 66/100\n",
            "4/4 [==============================] - 1s 277ms/step - loss: 0.0086 - accuracy: 1.0000 - val_loss: 1.5626 - val_accuracy: 0.5400\n",
            "Epoch 67/100\n",
            "4/4 [==============================] - 1s 393ms/step - loss: 0.0052 - accuracy: 1.0000 - val_loss: 1.5775 - val_accuracy: 0.5600\n",
            "Epoch 68/100\n",
            "4/4 [==============================] - 1s 394ms/step - loss: 0.0038 - accuracy: 1.0000 - val_loss: 1.5851 - val_accuracy: 0.5600\n",
            "Epoch 69/100\n",
            "4/4 [==============================] - 1s 406ms/step - loss: 0.0031 - accuracy: 1.0000 - val_loss: 1.5917 - val_accuracy: 0.5600\n",
            "Epoch 70/100\n",
            "4/4 [==============================] - 1s 403ms/step - loss: 0.0025 - accuracy: 1.0000 - val_loss: 1.6120 - val_accuracy: 0.5800\n",
            "Epoch 71/100\n",
            "4/4 [==============================] - 1s 391ms/step - loss: 0.0021 - accuracy: 1.0000 - val_loss: 1.6128 - val_accuracy: 0.5800\n",
            "Epoch 72/100\n",
            "4/4 [==============================] - 2s 553ms/step - loss: 0.0017 - accuracy: 1.0000 - val_loss: 1.6148 - val_accuracy: 0.5800\n",
            "Epoch 73/100\n",
            "4/4 [==============================] - 2s 357ms/step - loss: 0.0015 - accuracy: 1.0000 - val_loss: 1.6154 - val_accuracy: 0.5800\n",
            "Epoch 74/100\n",
            "4/4 [==============================] - 1s 401ms/step - loss: 0.0013 - accuracy: 1.0000 - val_loss: 1.6286 - val_accuracy: 0.5800\n",
            "Epoch 75/100\n",
            "4/4 [==============================] - 1s 394ms/step - loss: 0.0011 - accuracy: 1.0000 - val_loss: 1.6339 - val_accuracy: 0.5700\n",
            "Epoch 76/100\n",
            "4/4 [==============================] - 1s 275ms/step - loss: 9.4908e-04 - accuracy: 1.0000 - val_loss: 1.6522 - val_accuracy: 0.5700\n",
            "Epoch 77/100\n",
            "4/4 [==============================] - 1s 369ms/step - loss: 8.2915e-04 - accuracy: 1.0000 - val_loss: 1.6785 - val_accuracy: 0.5500\n",
            "Epoch 78/100\n",
            "4/4 [==============================] - 1s 392ms/step - loss: 7.4472e-04 - accuracy: 1.0000 - val_loss: 1.6726 - val_accuracy: 0.5600\n",
            "Epoch 79/100\n",
            "4/4 [==============================] - 2s 601ms/step - loss: 6.6689e-04 - accuracy: 1.0000 - val_loss: 1.6921 - val_accuracy: 0.5100\n",
            "Epoch 80/100\n",
            "4/4 [==============================] - 2s 512ms/step - loss: 6.2325e-04 - accuracy: 1.0000 - val_loss: 1.6789 - val_accuracy: 0.5400\n",
            "Epoch 81/100\n",
            "4/4 [==============================] - 1s 388ms/step - loss: 5.1637e-04 - accuracy: 1.0000 - val_loss: 1.6855 - val_accuracy: 0.5400\n",
            "Epoch 82/100\n",
            "4/4 [==============================] - 1s 416ms/step - loss: 4.8636e-04 - accuracy: 1.0000 - val_loss: 1.6829 - val_accuracy: 0.5500\n",
            "Epoch 83/100\n",
            "4/4 [==============================] - 1s 260ms/step - loss: 4.2373e-04 - accuracy: 1.0000 - val_loss: 1.6889 - val_accuracy: 0.5400\n",
            "Epoch 84/100\n",
            "4/4 [==============================] - 1s 432ms/step - loss: 4.3077e-04 - accuracy: 1.0000 - val_loss: 1.6916 - val_accuracy: 0.5400\n",
            "Epoch 85/100\n",
            "4/4 [==============================] - 1s 449ms/step - loss: 3.4134e-04 - accuracy: 1.0000 - val_loss: 1.6963 - val_accuracy: 0.5400\n",
            "Epoch 86/100\n",
            "4/4 [==============================] - 1s 394ms/step - loss: 3.1307e-04 - accuracy: 1.0000 - val_loss: 1.6783 - val_accuracy: 0.5400\n",
            "Epoch 87/100\n",
            "4/4 [==============================] - 1s 368ms/step - loss: 3.0323e-04 - accuracy: 1.0000 - val_loss: 1.6922 - val_accuracy: 0.5100\n",
            "Epoch 88/100\n",
            "4/4 [==============================] - 2s 412ms/step - loss: 2.9031e-04 - accuracy: 1.0000 - val_loss: 1.7133 - val_accuracy: 0.5400\n",
            "Epoch 89/100\n",
            "4/4 [==============================] - 2s 347ms/step - loss: 2.5906e-04 - accuracy: 1.0000 - val_loss: 1.7115 - val_accuracy: 0.5400\n",
            "Epoch 90/100\n",
            "4/4 [==============================] - 1s 412ms/step - loss: 2.3471e-04 - accuracy: 1.0000 - val_loss: 1.7214 - val_accuracy: 0.5500\n",
            "Epoch 91/100\n",
            "4/4 [==============================] - 1s 431ms/step - loss: 2.3442e-04 - accuracy: 1.0000 - val_loss: 1.7198 - val_accuracy: 0.5500\n",
            "Epoch 92/100\n",
            "4/4 [==============================] - 1s 452ms/step - loss: 2.0970e-04 - accuracy: 1.0000 - val_loss: 1.7209 - val_accuracy: 0.5500\n",
            "Epoch 93/100\n",
            "4/4 [==============================] - 1s 417ms/step - loss: 2.2863e-04 - accuracy: 1.0000 - val_loss: 1.7309 - val_accuracy: 0.5600\n",
            "Epoch 94/100\n",
            "4/4 [==============================] - 1s 429ms/step - loss: 1.9546e-04 - accuracy: 1.0000 - val_loss: 1.7445 - val_accuracy: 0.5600\n",
            "Epoch 95/100\n",
            "4/4 [==============================] - 1s 396ms/step - loss: 1.7335e-04 - accuracy: 1.0000 - val_loss: 1.7463 - val_accuracy: 0.5500\n",
            "Epoch 96/100\n",
            "4/4 [==============================] - 1s 449ms/step - loss: 1.7103e-04 - accuracy: 1.0000 - val_loss: 1.7355 - val_accuracy: 0.5600\n",
            "Epoch 97/100\n",
            "4/4 [==============================] - 2s 654ms/step - loss: 1.6830e-04 - accuracy: 1.0000 - val_loss: 1.7429 - val_accuracy: 0.5500\n",
            "Epoch 98/100\n",
            "4/4 [==============================] - 1s 292ms/step - loss: 1.5136e-04 - accuracy: 1.0000 - val_loss: 1.7557 - val_accuracy: 0.5600\n",
            "Epoch 99/100\n",
            "4/4 [==============================] - 1s 381ms/step - loss: 1.4798e-04 - accuracy: 1.0000 - val_loss: 1.7449 - val_accuracy: 0.5600\n",
            "Epoch 100/100\n",
            "4/4 [==============================] - 1s 257ms/step - loss: 1.4312e-04 - accuracy: 1.0000 - val_loss: 1.7637 - val_accuracy: 0.5600\n"
          ]
        }
      ]
    }
  ]
}